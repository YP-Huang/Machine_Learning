{
 "cells": [
  {
   "cell_type": "markdown",
   "id": "0e0507cb",
   "metadata": {},
   "source": [
    "###### 1. Numpy is linear algebra library for Python"
   ]
  },
  {
   "cell_type": "code",
   "execution_count": null,
   "id": "cfd8f9e5",
   "metadata": {},
   "outputs": [],
   "source": [
    "# conda install numpy\n",
    "# pip install numpy "
   ]
  },
  {
   "cell_type": "code",
   "execution_count": null,
   "id": "ade645b1",
   "metadata": {},
   "outputs": [],
   "source": [
    "import numpy as np"
   ]
  },
  {
   "cell_type": "markdown",
   "id": "60493141",
   "metadata": {},
   "source": [
    "###### 2. NumPy arrays: vector and matrices"
   ]
  },
  {
   "cell_type": "code",
   "execution_count": null,
   "id": "67efafe6",
   "metadata": {},
   "outputs": [],
   "source": [
    "my_list = ['a', 'b', 'c', 1,2,3]"
   ]
  },
  {
   "cell_type": "code",
   "execution_count": null,
   "id": "f9a0c8f8",
   "metadata": {},
   "outputs": [],
   "source": [
    "np.array(my_list) # cast list into array"
   ]
  },
  {
   "cell_type": "code",
   "execution_count": null,
   "id": "3a6e004e",
   "metadata": {},
   "outputs": [],
   "source": [
    "my_matrice = [['a', 'b', 'c'], [1,2,3]]"
   ]
  },
  {
   "cell_type": "code",
   "execution_count": null,
   "id": "9973c028",
   "metadata": {},
   "outputs": [],
   "source": [
    "np.array(my_matrice) # cast list of list into array"
   ]
  },
  {
   "cell_type": "code",
   "execution_count": null,
   "id": "7c23d09c",
   "metadata": {},
   "outputs": [],
   "source": [
    "np.arange(1, 10, 2) # generate array with np.arange()"
   ]
  },
  {
   "cell_type": "code",
   "execution_count": null,
   "id": "5f404e68",
   "metadata": {},
   "outputs": [],
   "source": [
    "np.zeros(3)"
   ]
  },
  {
   "cell_type": "code",
   "execution_count": null,
   "id": "1b5f0c35",
   "metadata": {},
   "outputs": [],
   "source": [
    "np.zeros((3,3)) # generate 1-D or 2-D arrays of zeros"
   ]
  },
  {
   "cell_type": "code",
   "execution_count": null,
   "id": "c9a6f0a0",
   "metadata": {},
   "outputs": [],
   "source": [
    "np.ones((2,2))"
   ]
  },
  {
   "cell_type": "code",
   "execution_count": null,
   "id": "0c0387e3",
   "metadata": {},
   "outputs": [],
   "source": [
    "np.linspace(1, 2, 11)"
   ]
  },
  {
   "cell_type": "code",
   "execution_count": null,
   "id": "b5cd746f",
   "metadata": {},
   "outputs": [],
   "source": [
    "np.eye(5) # create identity matrix"
   ]
  },
  {
   "cell_type": "markdown",
   "id": "3799bce1",
   "metadata": {},
   "source": [
    "###### 3. Create random numbers"
   ]
  },
  {
   "cell_type": "code",
   "execution_count": null,
   "id": "2702a0b5",
   "metadata": {},
   "outputs": [],
   "source": [
    "from numpy import random\n",
    "from numpy.random import randint"
   ]
  },
  {
   "cell_type": "code",
   "execution_count": null,
   "id": "886d9b57",
   "metadata": {},
   "outputs": [],
   "source": [
    "np.random.rand(5)"
   ]
  },
  {
   "cell_type": "code",
   "execution_count": null,
   "id": "ec2274f8",
   "metadata": {},
   "outputs": [],
   "source": [
    "np.random.rand(3,3) # uniform distribution"
   ]
  },
  {
   "cell_type": "code",
   "execution_count": null,
   "id": "40e2f7e0",
   "metadata": {},
   "outputs": [],
   "source": [
    "np.random.randn(10) # normal distribution"
   ]
  },
  {
   "cell_type": "code",
   "execution_count": null,
   "id": "1a16a056",
   "metadata": {},
   "outputs": [],
   "source": [
    "np.random.randint(1,100,5) # integer"
   ]
  },
  {
   "cell_type": "markdown",
   "id": "59f0efb5",
   "metadata": {},
   "source": [
    "###### 4. Useful attributes and functions"
   ]
  },
  {
   "cell_type": "code",
   "execution_count": null,
   "id": "76bd0f76",
   "metadata": {},
   "outputs": [],
   "source": [
    "array1 = np.arange(25)"
   ]
  },
  {
   "cell_type": "code",
   "execution_count": null,
   "id": "811a74a9",
   "metadata": {},
   "outputs": [],
   "source": [
    "array2 = np.random.randint(0,100,10)"
   ]
  },
  {
   "cell_type": "code",
   "execution_count": null,
   "id": "845f6049",
   "metadata": {},
   "outputs": [],
   "source": [
    "array1.reshape(5,5)"
   ]
  },
  {
   "cell_type": "code",
   "execution_count": null,
   "id": "834a0d61",
   "metadata": {},
   "outputs": [],
   "source": [
    "array1.max()"
   ]
  },
  {
   "cell_type": "code",
   "execution_count": null,
   "id": "b620386b",
   "metadata": {},
   "outputs": [],
   "source": [
    "array1.min()"
   ]
  },
  {
   "cell_type": "code",
   "execution_count": null,
   "id": "fc9e0106",
   "metadata": {},
   "outputs": [],
   "source": [
    "array1.argmax() # location of the max value"
   ]
  },
  {
   "cell_type": "code",
   "execution_count": null,
   "id": "0eafe8af",
   "metadata": {},
   "outputs": [],
   "source": [
    "array1.shape # shape attribute"
   ]
  },
  {
   "cell_type": "code",
   "execution_count": null,
   "id": "bab3d969",
   "metadata": {},
   "outputs": [],
   "source": [
    "array1.dtype"
   ]
  },
  {
   "cell_type": "markdown",
   "id": "52c30ca3",
   "metadata": {},
   "source": [
    "###### 5. Indexing and selection, copy, conditional selection"
   ]
  },
  {
   "cell_type": "code",
   "execution_count": null,
   "id": "47ec83d1",
   "metadata": {},
   "outputs": [],
   "source": [
    "array1[8]"
   ]
  },
  {
   "cell_type": "code",
   "execution_count": null,
   "id": "bcee80f0",
   "metadata": {},
   "outputs": [],
   "source": [
    "array1[0:5]"
   ]
  },
  {
   "cell_type": "code",
   "execution_count": null,
   "id": "3b008fbd",
   "metadata": {},
   "outputs": [],
   "source": [
    "array1[:8] # from beginning to index 8"
   ]
  },
  {
   "cell_type": "code",
   "execution_count": null,
   "id": "f66f5d6f",
   "metadata": {},
   "outputs": [],
   "source": [
    "array1[2:] # from index 2 and beyond"
   ]
  },
  {
   "cell_type": "code",
   "execution_count": null,
   "id": "06f0c8ec",
   "metadata": {},
   "outputs": [],
   "source": [
    "slice_array1 = array1[0:5]"
   ]
  },
  {
   "cell_type": "code",
   "execution_count": null,
   "id": "c96e20bf",
   "metadata": {},
   "outputs": [],
   "source": [
    "slice_array1[:]=100 # "
   ]
  },
  {
   "cell_type": "code",
   "execution_count": null,
   "id": "2701c457",
   "metadata": {},
   "outputs": [],
   "source": [
    "slice2_array1 = array1[6:10].copy()"
   ]
  },
  {
   "cell_type": "code",
   "execution_count": null,
   "id": "4e157dc3",
   "metadata": {},
   "outputs": [],
   "source": [
    "slice2_array1[:] = 200"
   ]
  },
  {
   "cell_type": "code",
   "execution_count": null,
   "id": "23d88409",
   "metadata": {},
   "outputs": [],
   "source": [
    "array_2d = np.array([[1,2,3], [4,5,6],[7,8,9]])"
   ]
  },
  {
   "cell_type": "code",
   "execution_count": null,
   "id": "fa6a9250",
   "metadata": {},
   "outputs": [],
   "source": [
    "array_2d[0][0] # [row], [col]"
   ]
  },
  {
   "cell_type": "code",
   "execution_count": null,
   "id": "2548525f",
   "metadata": {},
   "outputs": [],
   "source": [
    "array_2d[0,0] # [row, col]"
   ]
  },
  {
   "cell_type": "code",
   "execution_count": null,
   "id": "0ce3fac7",
   "metadata": {},
   "outputs": [],
   "source": [
    "array_2d[:2, 1:] # a slice of array"
   ]
  },
  {
   "cell_type": "code",
   "execution_count": null,
   "id": "96dcaa78",
   "metadata": {},
   "outputs": [],
   "source": [
    "array3 = np.arange(1,21,2)"
   ]
  },
  {
   "cell_type": "code",
   "execution_count": null,
   "id": "fe10db88",
   "metadata": {},
   "outputs": [],
   "source": [
    "array3 > 5"
   ]
  },
  {
   "cell_type": "code",
   "execution_count": null,
   "id": "6a3c4639",
   "metadata": {},
   "outputs": [],
   "source": [
    "array3[array3>5] # conditional selection"
   ]
  },
  {
   "cell_type": "code",
   "execution_count": null,
   "id": "55cca7dd",
   "metadata": {},
   "outputs": [],
   "source": [
    "array4 = np.arange(100).reshape(10,10)"
   ]
  },
  {
   "cell_type": "code",
   "execution_count": null,
   "id": "0dcf87a6",
   "metadata": {},
   "outputs": [],
   "source": [
    "array4[2:5,4:8]"
   ]
  },
  {
   "cell_type": "markdown",
   "id": "96d272f5",
   "metadata": {},
   "source": [
    "###### 6. numpy operations, array with array, scalar, functions"
   ]
  },
  {
   "cell_type": "code",
   "execution_count": null,
   "id": "0d6b576a",
   "metadata": {},
   "outputs": [],
   "source": [
    "array5 = np.arange(0,15)"
   ]
  },
  {
   "cell_type": "code",
   "execution_count": null,
   "id": "31c22ef8",
   "metadata": {},
   "outputs": [],
   "source": [
    "array5+array5+10"
   ]
  },
  {
   "cell_type": "code",
   "execution_count": null,
   "id": "e51ac2c1",
   "metadata": {},
   "outputs": [],
   "source": [
    "4*array5-100"
   ]
  },
  {
   "cell_type": "code",
   "execution_count": null,
   "id": "2dec68be",
   "metadata": {},
   "outputs": [],
   "source": [
    "array5/array5 # warning for 0/0"
   ]
  },
  {
   "cell_type": "code",
   "execution_count": null,
   "id": "991c586c",
   "metadata": {},
   "outputs": [],
   "source": [
    "1/array5 # warning for inf"
   ]
  },
  {
   "cell_type": "code",
   "execution_count": null,
   "id": "c82e4cdf",
   "metadata": {},
   "outputs": [],
   "source": [
    "array5**3"
   ]
  },
  {
   "cell_type": "code",
   "execution_count": null,
   "id": "316f7263",
   "metadata": {},
   "outputs": [],
   "source": [
    "np.sqrt(array5)"
   ]
  },
  {
   "cell_type": "code",
   "execution_count": null,
   "id": "748a751d",
   "metadata": {},
   "outputs": [],
   "source": [
    "np.exp(array5)"
   ]
  },
  {
   "cell_type": "code",
   "execution_count": null,
   "id": "1fe0a28e",
   "metadata": {},
   "outputs": [],
   "source": [
    "np.max(array5**2) \n",
    "# other functions include: sin(), log(), sum(axis = 0), std()"
   ]
  }
 ],
 "metadata": {
  "kernelspec": {
   "display_name": "Python 3",
   "language": "python",
   "name": "python3"
  },
  "language_info": {
   "codemirror_mode": {
    "name": "ipython",
    "version": 3
   },
   "file_extension": ".py",
   "mimetype": "text/x-python",
   "name": "python",
   "nbconvert_exporter": "python",
   "pygments_lexer": "ipython3",
   "version": "3.8.8"
  }
 },
 "nbformat": 4,
 "nbformat_minor": 5
}
