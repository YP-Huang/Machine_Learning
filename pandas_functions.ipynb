{
 "cells": [
  {
   "cell_type": "markdown",
   "id": "71e4e68c",
   "metadata": {},
   "source": [
    "###### 1. Pandas is Pythons's version of excel"
   ]
  },
  {
   "cell_type": "code",
   "execution_count": null,
   "id": "67b1d279",
   "metadata": {},
   "outputs": [],
   "source": [
    "# conda install pandas\n",
    "# pip install pandas"
   ]
  },
  {
   "cell_type": "code",
   "execution_count": null,
   "id": "b7bba4db",
   "metadata": {},
   "outputs": [],
   "source": [
    "import numpy as np\n",
    "import pandas as pd"
   ]
  },
  {
   "cell_type": "markdown",
   "id": "faa31f57",
   "metadata": {},
   "source": [
    "###### 2. Series"
   ]
  },
  {
   "cell_type": "code",
   "execution_count": null,
   "id": "044fc087",
   "metadata": {},
   "outputs": [],
   "source": [
    "labels = ['nike', 'skx', 'others']\n",
    "price = [100, 50, 70]\n",
    "d = {'nike':100, 'skx':50, 'others':30}"
   ]
  },
  {
   "cell_type": "code",
   "execution_count": null,
   "id": "3cc0ea5f",
   "metadata": {},
   "outputs": [],
   "source": [
    "pd.Series(price)"
   ]
  },
  {
   "cell_type": "code",
   "execution_count": null,
   "id": "f759f108",
   "metadata": {},
   "outputs": [],
   "source": [
    "pd.Series(data = price, index = labels)"
   ]
  },
  {
   "cell_type": "code",
   "execution_count": null,
   "id": "fc1cac47",
   "metadata": {},
   "outputs": [],
   "source": [
    "pd.Series(d)"
   ]
  },
  {
   "cell_type": "code",
   "execution_count": null,
   "id": "75153ee5",
   "metadata": {},
   "outputs": [],
   "source": [
    "pd.Series(data = [sum, min, max])"
   ]
  },
  {
   "cell_type": "code",
   "execution_count": null,
   "id": "6d64ab62",
   "metadata": {},
   "outputs": [],
   "source": [
    "ser1 = pd.Series([1,2,3,4], \n",
    "                 ['sentosa', 'city hall', 'bugis', 'lavendar'])"
   ]
  },
  {
   "cell_type": "code",
   "execution_count": null,
   "id": "5f92e3bf",
   "metadata": {},
   "outputs": [],
   "source": [
    "ser2 = pd.Series([3,4,5,6], \n",
    "                 ['sunflower','cherry','leaf','branch'])"
   ]
  },
  {
   "cell_type": "code",
   "execution_count": null,
   "id": "9b51a605",
   "metadata": {},
   "outputs": [],
   "source": [
    "ser1['sentosa']"
   ]
  },
  {
   "cell_type": "code",
   "execution_count": null,
   "id": "58a695a0",
   "metadata": {},
   "outputs": [],
   "source": [
    "ser3 = pd.Series(data = labels)"
   ]
  },
  {
   "cell_type": "code",
   "execution_count": null,
   "id": "37e0c7b3",
   "metadata": {},
   "outputs": [],
   "source": [
    "ser1+ser2 # no match found"
   ]
  },
  {
   "cell_type": "code",
   "execution_count": null,
   "id": "ccb5feaa",
   "metadata": {},
   "outputs": [],
   "source": [
    "ser1+ser1"
   ]
  },
  {
   "cell_type": "markdown",
   "id": "c7c03867",
   "metadata": {},
   "source": [
    "###### 3. DataFrame"
   ]
  },
  {
   "cell_type": "code",
   "execution_count": null,
   "id": "5741ddeb",
   "metadata": {},
   "outputs": [],
   "source": [
    "from numpy.random import randn"
   ]
  },
  {
   "cell_type": "code",
   "execution_count": null,
   "id": "9d1f4a41",
   "metadata": {},
   "outputs": [],
   "source": [
    "np.random.seed(100)"
   ]
  },
  {
   "cell_type": "code",
   "execution_count": null,
   "id": "2daf31e0",
   "metadata": {},
   "outputs": [],
   "source": [
    "df = pd.DataFrame(data = randn(5,4) , \n",
    "                  index = ['a','b','c','d','e' ],\n",
    "                  columns = ['x','y','z','x1'])"
   ]
  },
  {
   "cell_type": "code",
   "execution_count": null,
   "id": "4b09f968",
   "metadata": {},
   "outputs": [],
   "source": [
    "df[['x','x1']] # selecting columns"
   ]
  },
  {
   "cell_type": "code",
   "execution_count": null,
   "id": "754d5e21",
   "metadata": {},
   "outputs": [],
   "source": [
    "df.x # similar to SQL, but not recommended "
   ]
  },
  {
   "cell_type": "code",
   "execution_count": null,
   "id": "0a55b345",
   "metadata": {},
   "outputs": [],
   "source": [
    "df['new col'] = df['x'] +df['y'] # create new columns"
   ]
  },
  {
   "cell_type": "code",
   "execution_count": null,
   "id": "ae4ced2a",
   "metadata": {},
   "outputs": [],
   "source": [
    "df.drop('new col', axis = 1, inplace = False) \n",
    "# axis = 0 for rows\n",
    "# axis = 1 for cols"
   ]
  },
  {
   "cell_type": "code",
   "execution_count": null,
   "id": "f36e708c",
   "metadata": {},
   "outputs": [],
   "source": [
    "df.drop('a', axis = 0)"
   ]
  },
  {
   "cell_type": "code",
   "execution_count": null,
   "id": "a197e97a",
   "metadata": {},
   "outputs": [],
   "source": [
    "df.shape"
   ]
  },
  {
   "cell_type": "code",
   "execution_count": null,
   "id": "bf367370",
   "metadata": {},
   "outputs": [],
   "source": [
    "df.loc[['a','b','c']] # selecting rows\n",
    "df.iloc[0:3]"
   ]
  },
  {
   "cell_type": "code",
   "execution_count": null,
   "id": "aee9af9c",
   "metadata": {},
   "outputs": [],
   "source": [
    "df.loc['a','x'] # selecting a subset"
   ]
  },
  {
   "cell_type": "code",
   "execution_count": null,
   "id": "70def9b7",
   "metadata": {},
   "outputs": [],
   "source": [
    "df.loc[['a','c'],['y','new col']]"
   ]
  },
  {
   "cell_type": "code",
   "execution_count": null,
   "id": "b10048be",
   "metadata": {},
   "outputs": [],
   "source": [
    "df[df>1] # conditional selection"
   ]
  },
  {
   "cell_type": "code",
   "execution_count": null,
   "id": "7d96d106",
   "metadata": {},
   "outputs": [],
   "source": [
    "df[df['new col']> -0.5][['x','y']]\n",
    "# selecting rows based on values of column"
   ]
  },
  {
   "cell_type": "code",
   "execution_count": null,
   "id": "e0b60131",
   "metadata": {},
   "outputs": [],
   "source": [
    "df[(df['new col']> -0.5) & (df['x']<0)] \n",
    "# multiple conditions &,|"
   ]
  },
  {
   "cell_type": "code",
   "execution_count": null,
   "id": "e4b2c2bc",
   "metadata": {},
   "outputs": [],
   "source": [
    "df.index"
   ]
  },
  {
   "cell_type": "code",
   "execution_count": null,
   "id": "11e13f4e",
   "metadata": {},
   "outputs": [],
   "source": [
    "df.columns"
   ]
  },
  {
   "cell_type": "code",
   "execution_count": null,
   "id": "25c5c4e1",
   "metadata": {},
   "outputs": [],
   "source": [
    "df.reset_index(inplace= False)"
   ]
  },
  {
   "cell_type": "code",
   "execution_count": null,
   "id": "6aa0a37e",
   "metadata": {},
   "outputs": [],
   "source": [
    "new_index = 'apple banana orange cherry tomato'.split()"
   ]
  },
  {
   "cell_type": "code",
   "execution_count": null,
   "id": "fd506e44",
   "metadata": {},
   "outputs": [],
   "source": [
    "df['Fruits'] = new_index"
   ]
  },
  {
   "cell_type": "code",
   "execution_count": null,
   "id": "98aeec93",
   "metadata": {},
   "outputs": [],
   "source": [
    "df.set_index('Fruits')"
   ]
  },
  {
   "cell_type": "code",
   "execution_count": null,
   "id": "04de4476",
   "metadata": {},
   "outputs": [],
   "source": [
    "# multi-index, index hirarchy \n",
    "level1 = ['a','a','a','b','b','b']\n",
    "level2 = [1,2,3,1,2,3]\n",
    "multi_index = list(zip(level1, level2))\n"
   ]
  },
  {
   "cell_type": "code",
   "execution_count": null,
   "id": "74e9fac4",
   "metadata": {},
   "outputs": [],
   "source": [
    "multi_index=pd.MultiIndex.from_tuples(multi_index)"
   ]
  },
  {
   "cell_type": "code",
   "execution_count": null,
   "id": "334f994c",
   "metadata": {},
   "outputs": [],
   "source": [
    "df = pd.DataFrame(randn(6,2), \n",
    "                  multi_index, \n",
    "                  columns=['col1','col2'])"
   ]
  },
  {
   "cell_type": "code",
   "execution_count": null,
   "id": "ad7674a6",
   "metadata": {},
   "outputs": [],
   "source": [
    "df.loc['a']"
   ]
  },
  {
   "cell_type": "code",
   "execution_count": null,
   "id": "f54c6dd9",
   "metadata": {},
   "outputs": [],
   "source": [
    "df.index.names=['section', 'class']"
   ]
  },
  {
   "cell_type": "code",
   "execution_count": null,
   "id": "b366360d",
   "metadata": {},
   "outputs": [],
   "source": [
    "df.loc['b'].loc[2]['col1']"
   ]
  },
  {
   "cell_type": "code",
   "execution_count": null,
   "id": "36f6bc18",
   "metadata": {},
   "outputs": [],
   "source": [
    "df.xs(1, level='class')\n",
    "# cross section selection"
   ]
  },
  {
   "cell_type": "markdown",
   "id": "e17734f3",
   "metadata": {},
   "source": [
    "###### 4. Handling missing data, groupby(), merging, joining, concatenating\n",
    "pd.groupby(), pd.merge(), pd.concat(), df1.merge(df2)"
   ]
  },
  {
   "cell_type": "code",
   "execution_count": null,
   "id": "a1d7d8bb",
   "metadata": {},
   "outputs": [],
   "source": [
    "# dropna(), fillna()\n",
    "\n",
    "d = {'a':[1,2,np.nan], 'b':[3,4,5], 'c':[np.nan, np.nan, 8]}\n",
    "df = pd.DataFrame(d)"
   ]
  },
  {
   "cell_type": "code",
   "execution_count": null,
   "id": "dfdc0e26",
   "metadata": {},
   "outputs": [],
   "source": [
    "df"
   ]
  },
  {
   "cell_type": "code",
   "execution_count": null,
   "id": "d2bc648b",
   "metadata": {},
   "outputs": [],
   "source": [
    "df.dropna() # drop row with na "
   ]
  },
  {
   "cell_type": "code",
   "execution_count": null,
   "id": "238842ec",
   "metadata": {},
   "outputs": [],
   "source": [
    "df.dropna(axis=1) #drop columns with na"
   ]
  },
  {
   "cell_type": "code",
   "execution_count": null,
   "id": "83f9ea9d",
   "metadata": {},
   "outputs": [],
   "source": [
    "df.dropna(thresh=1) # thresh"
   ]
  },
  {
   "cell_type": "code",
   "execution_count": null,
   "id": "9114da33",
   "metadata": {},
   "outputs": [],
   "source": [
    "df['a'].fillna(df['a'].mean())"
   ]
  },
  {
   "cell_type": "code",
   "execution_count": null,
   "id": "2c001b57",
   "metadata": {},
   "outputs": [],
   "source": [
    "# groupby: for aggregate functions\n",
    "data ={'stock':['goog','goog', 'fb','fb', 'nike','nike'],\n",
    "      'ceo':['Mr.g', 'Mr.b', 'Mr.g', 'Mr.b', 'Mr.g', 'Mr.b'],\n",
    "      'share price':[100, 200, 300, 80, 100, 101]}"
   ]
  },
  {
   "cell_type": "code",
   "execution_count": null,
   "id": "92e2e8b4",
   "metadata": {},
   "outputs": [],
   "source": [
    "df = pd.DataFrame(data)"
   ]
  },
  {
   "cell_type": "code",
   "execution_count": null,
   "id": "c8c755e0",
   "metadata": {},
   "outputs": [],
   "source": [
    "df.groupby(by = 'stock').mean().loc['goog'] \n",
    "#sum() std() count() loc() max()  min()"
   ]
  },
  {
   "cell_type": "code",
   "execution_count": null,
   "id": "9ff9421c",
   "metadata": {},
   "outputs": [],
   "source": [
    "df.groupby(by='stock').describe().transpose()"
   ]
  },
  {
   "cell_type": "code",
   "execution_count": null,
   "id": "44d32dce",
   "metadata": {},
   "outputs": [],
   "source": [
    "df1 = pd.DataFrame({'A': ['A0', 'A1', 'A2', 'A3'],\n",
    "                        'B': ['B0', 'B1', 'B2', 'B3'],\n",
    "                        'C': ['C0', 'C1', 'C2', 'C3'],\n",
    "                        'D': ['D0', 'D1', 'D2', 'D3']},\n",
    "                        index=[0, 1, 2, 3])"
   ]
  },
  {
   "cell_type": "code",
   "execution_count": null,
   "id": "628c0be9",
   "metadata": {},
   "outputs": [],
   "source": [
    "df2 = pd.DataFrame({'A': ['A4', 'A5', 'A6', 'A7'],\n",
    "                        'B': ['B4', 'B5', 'B6', 'B7'],\n",
    "                        'C': ['C4', 'C5', 'C6', 'C7'],\n",
    "                        'D': ['D4', 'D5', 'D6', 'D7']},\n",
    "                         index=[4, 5, 6, 7]) "
   ]
  },
  {
   "cell_type": "code",
   "execution_count": null,
   "id": "6283c2ea",
   "metadata": {},
   "outputs": [],
   "source": [
    "df3 = pd.DataFrame({'A': ['A8', 'A9', 'A10', 'A11'],\n",
    "                        'B': ['B8', 'B9', 'B10', 'B11'],\n",
    "                        'C': ['C8', 'C9', 'C10', 'C11'],\n",
    "                        'D': ['D8', 'D9', 'D10', 'D11']},\n",
    "                        index=[8, 9, 10, 11])"
   ]
  },
  {
   "cell_type": "code",
   "execution_count": null,
   "id": "019d59d8",
   "metadata": {},
   "outputs": [],
   "source": [
    "pd.concat([df1, df2, df3], axis = 0) # try axix = 1\n",
    "# will show repeated column in the DataFrame"
   ]
  },
  {
   "cell_type": "code",
   "execution_count": null,
   "id": "6c843210",
   "metadata": {},
   "outputs": [],
   "source": [
    "left = pd.DataFrame({'key': ['K0', 'K1', 'K2', 'K3'],\n",
    "                     'A': ['A0', 'A1', 'A2', 'A3'],\n",
    "                     'B': ['B0', 'B1', 'B2', 'B3']})\n",
    "   \n",
    "right = pd.DataFrame({'key': ['K0', 'K1', 'K2', 'K3'],\n",
    "                          'C': ['C0', 'C1', 'C2', 'C3'],\n",
    "                          'D': ['D0', 'D1', 'D2', 'D3']})   "
   ]
  },
  {
   "cell_type": "code",
   "execution_count": null,
   "id": "aeea1de9",
   "metadata": {},
   "outputs": [],
   "source": [
    "pd.merge(left, right, how = 'inner', on = 'key')\n",
    "#to combine two DataFrame s with same columns or index,"
   ]
  },
  {
   "cell_type": "code",
   "execution_count": null,
   "id": "a72bb260",
   "metadata": {},
   "outputs": [],
   "source": [
    "left = pd.DataFrame({'A': ['A0', 'A1', 'A2'],\n",
    "                     'B': ['B0', 'B1', 'B2']},\n",
    "                      index=['K0', 'K1', 'K2']) \n",
    "\n",
    "right = pd.DataFrame({'C': ['C0', 'C2', 'C3'],\n",
    "                    'D': ['D0', 'D2', 'D3']},\n",
    "                      index=['K0', 'K2', 'K3'])"
   ]
  },
  {
   "cell_type": "code",
   "execution_count": null,
   "id": "f3c5d546",
   "metadata": {},
   "outputs": [],
   "source": [
    "left.join(right, how = 'outer')\n",
    "#join two DataFrame s with different indices"
   ]
  },
  {
   "cell_type": "code",
   "execution_count": null,
   "id": "6ab4d8d8",
   "metadata": {},
   "outputs": [],
   "source": [
    "left.join(right)"
   ]
  },
  {
   "cell_type": "markdown",
   "id": "faa3ac1f",
   "metadata": {},
   "source": [
    "###### 5. operating"
   ]
  },
  {
   "cell_type": "code",
   "execution_count": null,
   "id": "1fbf38af",
   "metadata": {},
   "outputs": [],
   "source": [
    "df = pd.DataFrame({'col1':[2,2,3,3],'col2':[444,555,555,444],'col3':['abc','def','ghi','xyz']})\n",
    "df.head()"
   ]
  },
  {
   "cell_type": "code",
   "execution_count": null,
   "id": "431ed501",
   "metadata": {},
   "outputs": [],
   "source": [
    "df['col2'].unique()"
   ]
  },
  {
   "cell_type": "code",
   "execution_count": null,
   "id": "1ad5ad81",
   "metadata": {},
   "outputs": [],
   "source": [
    "df['col2'].nunique() #len()"
   ]
  },
  {
   "cell_type": "code",
   "execution_count": null,
   "id": "2b1e1b7a",
   "metadata": {},
   "outputs": [],
   "source": [
    "df['col2'].value_counts()"
   ]
  },
  {
   "cell_type": "code",
   "execution_count": null,
   "id": "7fb0a4ed",
   "metadata": {},
   "outputs": [],
   "source": [
    "df[df['col1'] == 2]"
   ]
  },
  {
   "cell_type": "code",
   "execution_count": null,
   "id": "1c93e759",
   "metadata": {},
   "outputs": [],
   "source": [
    "def times2(x):\n",
    "    return x*2"
   ]
  },
  {
   "cell_type": "code",
   "execution_count": null,
   "id": "3baba645",
   "metadata": {},
   "outputs": [],
   "source": [
    "df['col1'].apply(times2)"
   ]
  },
  {
   "cell_type": "code",
   "execution_count": null,
   "id": "1849bfd7",
   "metadata": {},
   "outputs": [],
   "source": [
    "df['col3'].apply(len)"
   ]
  },
  {
   "cell_type": "code",
   "execution_count": null,
   "id": "0ccf2c40",
   "metadata": {},
   "outputs": [],
   "source": [
    "df['col1'].apply(lambda x:x*2)"
   ]
  },
  {
   "cell_type": "code",
   "execution_count": null,
   "id": "cbf4f60f",
   "metadata": {},
   "outputs": [],
   "source": [
    "df.drop('col1', axis=1, inplace = False)"
   ]
  },
  {
   "cell_type": "code",
   "execution_count": null,
   "id": "c93bed38",
   "metadata": {},
   "outputs": [],
   "source": [
    "df.columns"
   ]
  },
  {
   "cell_type": "code",
   "execution_count": null,
   "id": "f886b82f",
   "metadata": {},
   "outputs": [],
   "source": [
    "df.index"
   ]
  },
  {
   "cell_type": "code",
   "execution_count": null,
   "id": "85b3ac27",
   "metadata": {},
   "outputs": [],
   "source": [
    "df.sort_values(by = 'col2')"
   ]
  },
  {
   "cell_type": "code",
   "execution_count": null,
   "id": "bbc8caf5",
   "metadata": {},
   "outputs": [],
   "source": [
    "df.isnull()"
   ]
  },
  {
   "cell_type": "code",
   "execution_count": null,
   "id": "3f6e3225",
   "metadata": {},
   "outputs": [],
   "source": [
    "data = {'A':['foo','foo','foo','bar','bar','bar'],\n",
    "     'B':['one','one','two','two','one','one'],\n",
    "       'C':['x','y','x','y','x','y'],\n",
    "       'D':[1,3,2,5,4,1]}\n",
    "\n",
    "df = pd.DataFrame(data)"
   ]
  },
  {
   "cell_type": "code",
   "execution_count": null,
   "id": "f7f4dc51",
   "metadata": {},
   "outputs": [],
   "source": [
    "df"
   ]
  },
  {
   "cell_type": "code",
   "execution_count": null,
   "id": "dc4bf59a",
   "metadata": {},
   "outputs": [],
   "source": [
    "df.pivot_table(values = 'D', index=['A','B'], \n",
    "              columns=['C'])"
   ]
  },
  {
   "cell_type": "markdown",
   "id": "fd2ab530",
   "metadata": {},
   "source": [
    "###### 6. Input and Output"
   ]
  },
  {
   "cell_type": "code",
   "execution_count": null,
   "id": "8e24515e",
   "metadata": {},
   "outputs": [],
   "source": [
    "# csv, excel, html, sql\n",
    "# conda insall sqlalchemy\n",
    "# conda install lxml\n",
    "# conda install html5lib\n",
    "# conda install BeautifulSoup4"
   ]
  },
  {
   "cell_type": "code",
   "execution_count": 190,
   "id": "8e7f4f70",
   "metadata": {},
   "outputs": [
    {
     "data": {
      "text/plain": [
       "'/Users/yapinghuang/Desktop/SMU 2021-2022/2. Python self learning/04-Pandas-Exercises'"
      ]
     },
     "execution_count": 190,
     "metadata": {},
     "output_type": "execute_result"
    }
   ],
   "source": [
    "pwd # location "
   ]
  },
  {
   "cell_type": "code",
   "execution_count": 193,
   "id": "d9ec6cfb",
   "metadata": {},
   "outputs": [],
   "source": [
    "# df = pd.read_csv('exmple.csv')\n",
    "# df.to_csv('example', index = False)"
   ]
  },
  {
   "cell_type": "code",
   "execution_count": null,
   "id": "cf689c00",
   "metadata": {},
   "outputs": [],
   "source": [
    "pd.read_html()"
   ]
  }
 ],
 "metadata": {
  "kernelspec": {
   "display_name": "Python 3",
   "language": "python",
   "name": "python3"
  },
  "language_info": {
   "codemirror_mode": {
    "name": "ipython",
    "version": 3
   },
   "file_extension": ".py",
   "mimetype": "text/x-python",
   "name": "python",
   "nbconvert_exporter": "python",
   "pygments_lexer": "ipython3",
   "version": "3.8.8"
  }
 },
 "nbformat": 4,
 "nbformat_minor": 5
}
