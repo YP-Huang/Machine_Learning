{
 "cells": [
  {
   "cell_type": "markdown",
   "id": "18b54389",
   "metadata": {},
   "source": [
    "# 1. Install libraries and import libraries"
   ]
  },
  {
   "cell_type": "code",
   "execution_count": null,
   "id": "437df241",
   "metadata": {},
   "outputs": [],
   "source": [
    "# pip install requests\n",
    "# pip install lxml\n",
    "# pip install bs4"
   ]
  },
  {
   "cell_type": "code",
   "execution_count": null,
   "id": "bf978d92",
   "metadata": {},
   "outputs": [],
   "source": [
    "import requests\n",
    "import bs4"
   ]
  },
  {
   "cell_type": "markdown",
   "id": "374da426",
   "metadata": {},
   "source": [
    "# 2. Use requests.get() to get all the contents"
   ]
  },
  {
   "cell_type": "code",
   "execution_count": null,
   "id": "63774587",
   "metadata": {},
   "outputs": [],
   "source": [
    "result = requests.get('https://seaborn.pydata.org/examples/index.html')"
   ]
  },
  {
   "cell_type": "code",
   "execution_count": null,
   "id": "92c41fb2",
   "metadata": {},
   "outputs": [],
   "source": [
    "type(result)"
   ]
  },
  {
   "cell_type": "code",
   "execution_count": null,
   "id": "20f18fde",
   "metadata": {},
   "outputs": [],
   "source": [
    "# result.text"
   ]
  },
  {
   "cell_type": "markdown",
   "id": "32080aac",
   "metadata": {},
   "source": [
    "# 3. Create soup and use soup.select() tp grab titles and images "
   ]
  },
  {
   "cell_type": "code",
   "execution_count": null,
   "id": "9711ff30",
   "metadata": {},
   "outputs": [],
   "source": [
    "# use beautiful soup \n",
    "import bs4"
   ]
  },
  {
   "cell_type": "code",
   "execution_count": null,
   "id": "78d5458b",
   "metadata": {},
   "outputs": [],
   "source": [
    "soup = bs4.BeautifulSoup(result.text, 'lxml')"
   ]
  },
  {
   "cell_type": "code",
   "execution_count": null,
   "id": "69eb1525",
   "metadata": {},
   "outputs": [],
   "source": [
    "# soup"
   ]
  },
  {
   "cell_type": "code",
   "execution_count": null,
   "id": "e98c20d7",
   "metadata": {},
   "outputs": [],
   "source": [
    "soup.select('title')"
   ]
  },
  {
   "cell_type": "code",
   "execution_count": null,
   "id": "e09dcc40",
   "metadata": {},
   "outputs": [],
   "source": [
    "soup.select('title')[0].getText()"
   ]
  },
  {
   "cell_type": "code",
   "execution_count": null,
   "id": "dbe9f39b",
   "metadata": {},
   "outputs": [],
   "source": [
    "soup.select('title')[0].text"
   ]
  },
  {
   "cell_type": "code",
   "execution_count": null,
   "id": "b013e9c5",
   "metadata": {},
   "outputs": [],
   "source": [
    "type(soup.select('title'))"
   ]
  },
  {
   "cell_type": "code",
   "execution_count": null,
   "id": "a58fce40",
   "metadata": {},
   "outputs": [],
   "source": [
    "# to get images\n",
    "site_imgs = soup.select('img')"
   ]
  },
  {
   "cell_type": "code",
   "execution_count": null,
   "id": "534f0c16",
   "metadata": {},
   "outputs": [],
   "source": [
    "site_imgs[0]"
   ]
  },
  {
   "cell_type": "code",
   "execution_count": null,
   "id": "46a2277d",
   "metadata": {},
   "outputs": [],
   "source": [
    "site_imgs[1]['src']"
   ]
  },
  {
   "cell_type": "code",
   "execution_count": null,
   "id": "53807793",
   "metadata": {},
   "outputs": [],
   "source": [
    "image_link = requests.get('')"
   ]
  },
  {
   "cell_type": "code",
   "execution_count": null,
   "id": "7a9dc697",
   "metadata": {},
   "outputs": [],
   "source": [
    "f = open('image1.jpg', 'wb')"
   ]
  },
  {
   "cell_type": "code",
   "execution_count": null,
   "id": "a511c49c",
   "metadata": {},
   "outputs": [],
   "source": [
    "f.write(image_link.content)"
   ]
  },
  {
   "cell_type": "code",
   "execution_count": null,
   "id": "d0d75679",
   "metadata": {},
   "outputs": [],
   "source": [
    "f.close()"
   ]
  }
 ],
 "metadata": {
  "kernelspec": {
   "display_name": "Python 3",
   "language": "python",
   "name": "python3"
  },
  "language_info": {
   "codemirror_mode": {
    "name": "ipython",
    "version": 3
   },
   "file_extension": ".py",
   "mimetype": "text/x-python",
   "name": "python",
   "nbconvert_exporter": "python",
   "pygments_lexer": "ipython3",
   "version": "3.8.8"
  }
 },
 "nbformat": 4,
 "nbformat_minor": 5
}
